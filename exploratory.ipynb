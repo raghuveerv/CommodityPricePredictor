{
 "cells": [
  {
   "cell_type": "code",
   "execution_count": 1,
   "id": "3111f8be-fc64-4999-a0a4-efcbf994c617",
   "metadata": {},
   "outputs": [],
   "source": [
    "##By Wyatt Van Dyke\n",
    "##importing stuff\n",
    "import pandas as pd\n",
    "import numpy as np\n",
    "from currency_converter import CurrencyConverter\n",
    "\n",
    "pd.options.display.max_rows = 100  # default is 60 rows"
   ]
  },
  {
   "cell_type": "code",
   "execution_count": 2,
   "id": "1a5b33b9-bc92-4910-994f-9468ae6109e2",
   "metadata": {
    "scrolled": true
   },
   "outputs": [],
   "source": [
    "#I used Sublime Text to fix the file and encode it in UTF-8\n",
    "df_market = pd.read_csv('C:\\\\Users\\\\toyha\\\\Downloads\\\\archive\\\\wfp_market_food_prices.csv')"
   ]
  },
  {
   "cell_type": "code",
   "execution_count": 3,
   "id": "6fdae440-2cd1-488e-b48b-7afd7bdf9e17",
   "metadata": {},
   "outputs": [
    {
     "data": {
      "text/plain": [
       "(743914, 18)"
      ]
     },
     "execution_count": 3,
     "metadata": {},
     "output_type": "execute_result"
    }
   ],
   "source": [
    "df_market.shape"
   ]
  },
  {
   "cell_type": "code",
   "execution_count": 4,
   "id": "faf45c47-98b4-4230-aca6-03a0a0401e80",
   "metadata": {},
   "outputs": [
    {
     "data": {
      "text/plain": [
       "array([[1, 'Afghanistan', 272, ..., 2014, 50.0, 'WFP'],\n",
       "       [1, 'Afghanistan', 272, ..., 2014, 50.0, 'WFP'],\n",
       "       [1, 'Afghanistan', 272, ..., 2014, 50.0, 'WFP'],\n",
       "       ...,\n",
       "       [70001, 'South Sudan', 2750, ..., 2017, 95.0, 'WFP'],\n",
       "       [70001, 'South Sudan', 2750, ..., 2017, 95.0, 'WFP'],\n",
       "       [70001, 'South Sudan', 2750, ..., 2017, 93.7, 'WFP']], dtype=object)"
      ]
     },
     "execution_count": 4,
     "metadata": {},
     "output_type": "execute_result"
    }
   ],
   "source": [
    "df_market.values"
   ]
  },
  {
   "cell_type": "code",
   "execution_count": 5,
   "id": "b50eb359-c818-4dbf-94ae-a281af26caa7",
   "metadata": {},
   "outputs": [
    {
     "name": "stdout",
     "output_type": "stream",
     "text": [
      "<class 'pandas.core.frame.DataFrame'>\n",
      "RangeIndex: 743914 entries, 0 to 743913\n",
      "Data columns (total 18 columns):\n",
      " #   Column              Non-Null Count   Dtype  \n",
      "---  ------              --------------   -----  \n",
      " 0   adm0_id             743914 non-null  int64  \n",
      " 1   adm0_name           743914 non-null  object \n",
      " 2   adm1_id             743914 non-null  int64  \n",
      " 3   adm1_name           729965 non-null  object \n",
      " 4   mkt_id              743914 non-null  int64  \n",
      " 5   mkt_name            743914 non-null  object \n",
      " 6   cm_id               743914 non-null  int64  \n",
      " 7   cm_name             743914 non-null  object \n",
      " 8   cur_id              743914 non-null  int64  \n",
      " 9   cur_name            743914 non-null  object \n",
      " 10  pt_id               743914 non-null  int64  \n",
      " 11  pt_name             743914 non-null  object \n",
      " 12  um_id               743914 non-null  int64  \n",
      " 13  um_name             743914 non-null  object \n",
      " 14  mp_month            743914 non-null  int64  \n",
      " 15  mp_year             743914 non-null  int64  \n",
      " 16  mp_price            743914 non-null  float64\n",
      " 17  mp_commoditysource  743914 non-null  object \n",
      "dtypes: float64(1), int64(9), object(8)\n",
      "memory usage: 102.2+ MB\n"
     ]
    }
   ],
   "source": [
    "df_market.info()"
   ]
  },
  {
   "cell_type": "code",
   "execution_count": 6,
   "id": "b4250070-caa1-4a1a-8ba7-692802b4c3b3",
   "metadata": {},
   "outputs": [],
   "source": [
    "filter_middleeast = df_market[df_market['adm0_name'].isin(['Azerbaijan', 'Jordan', 'Lebanon', 'Syrian Arab Republic', 'Turkey', 'Yemen'])]"
   ]
  },
  {
   "cell_type": "code",
   "execution_count": 7,
   "id": "d53b38b4-d890-4468-b3c8-eab9cb1bd88a",
   "metadata": {},
   "outputs": [
    {
     "data": {
      "text/html": [
       "<div>\n",
       "<style scoped>\n",
       "    .dataframe tbody tr th:only-of-type {\n",
       "        vertical-align: middle;\n",
       "    }\n",
       "\n",
       "    .dataframe tbody tr th {\n",
       "        vertical-align: top;\n",
       "    }\n",
       "\n",
       "    .dataframe thead th {\n",
       "        text-align: right;\n",
       "    }\n",
       "</style>\n",
       "<table border=\"1\" class=\"dataframe\">\n",
       "  <thead>\n",
       "    <tr style=\"text-align: right;\">\n",
       "      <th></th>\n",
       "      <th>adm0_id</th>\n",
       "      <th>adm0_name</th>\n",
       "      <th>adm1_id</th>\n",
       "      <th>adm1_name</th>\n",
       "      <th>mkt_id</th>\n",
       "      <th>mkt_name</th>\n",
       "      <th>cm_id</th>\n",
       "      <th>cm_name</th>\n",
       "      <th>cur_id</th>\n",
       "      <th>cur_name</th>\n",
       "      <th>pt_id</th>\n",
       "      <th>pt_name</th>\n",
       "      <th>um_id</th>\n",
       "      <th>um_name</th>\n",
       "      <th>mp_month</th>\n",
       "      <th>mp_year</th>\n",
       "      <th>mp_price</th>\n",
       "      <th>mp_commoditysource</th>\n",
       "    </tr>\n",
       "  </thead>\n",
       "  <tbody>\n",
       "    <tr>\n",
       "      <th>12538</th>\n",
       "      <td>19</td>\n",
       "      <td>Azerbaijan</td>\n",
       "      <td>0</td>\n",
       "      <td>NaN</td>\n",
       "      <td>225</td>\n",
       "      <td>National Average</td>\n",
       "      <td>58</td>\n",
       "      <td>Wheat flour</td>\n",
       "      <td>36</td>\n",
       "      <td>AZN</td>\n",
       "      <td>15</td>\n",
       "      <td>Retail</td>\n",
       "      <td>5</td>\n",
       "      <td>KG</td>\n",
       "      <td>1</td>\n",
       "      <td>2007</td>\n",
       "      <td>0.29</td>\n",
       "      <td>The State Statistical Committee of the Republi...</td>\n",
       "    </tr>\n",
       "    <tr>\n",
       "      <th>12539</th>\n",
       "      <td>19</td>\n",
       "      <td>Azerbaijan</td>\n",
       "      <td>0</td>\n",
       "      <td>NaN</td>\n",
       "      <td>225</td>\n",
       "      <td>National Average</td>\n",
       "      <td>58</td>\n",
       "      <td>Wheat flour</td>\n",
       "      <td>36</td>\n",
       "      <td>AZN</td>\n",
       "      <td>15</td>\n",
       "      <td>Retail</td>\n",
       "      <td>5</td>\n",
       "      <td>KG</td>\n",
       "      <td>2</td>\n",
       "      <td>2007</td>\n",
       "      <td>0.31</td>\n",
       "      <td>The State Statistical Committee of the Republi...</td>\n",
       "    </tr>\n",
       "    <tr>\n",
       "      <th>12540</th>\n",
       "      <td>19</td>\n",
       "      <td>Azerbaijan</td>\n",
       "      <td>0</td>\n",
       "      <td>NaN</td>\n",
       "      <td>225</td>\n",
       "      <td>National Average</td>\n",
       "      <td>58</td>\n",
       "      <td>Wheat flour</td>\n",
       "      <td>36</td>\n",
       "      <td>AZN</td>\n",
       "      <td>15</td>\n",
       "      <td>Retail</td>\n",
       "      <td>5</td>\n",
       "      <td>KG</td>\n",
       "      <td>3</td>\n",
       "      <td>2007</td>\n",
       "      <td>0.32</td>\n",
       "      <td>The State Statistical Committee of the Republi...</td>\n",
       "    </tr>\n",
       "    <tr>\n",
       "      <th>12541</th>\n",
       "      <td>19</td>\n",
       "      <td>Azerbaijan</td>\n",
       "      <td>0</td>\n",
       "      <td>NaN</td>\n",
       "      <td>225</td>\n",
       "      <td>National Average</td>\n",
       "      <td>58</td>\n",
       "      <td>Wheat flour</td>\n",
       "      <td>36</td>\n",
       "      <td>AZN</td>\n",
       "      <td>15</td>\n",
       "      <td>Retail</td>\n",
       "      <td>5</td>\n",
       "      <td>KG</td>\n",
       "      <td>4</td>\n",
       "      <td>2007</td>\n",
       "      <td>0.32</td>\n",
       "      <td>The State Statistical Committee of the Republi...</td>\n",
       "    </tr>\n",
       "    <tr>\n",
       "      <th>12542</th>\n",
       "      <td>19</td>\n",
       "      <td>Azerbaijan</td>\n",
       "      <td>0</td>\n",
       "      <td>NaN</td>\n",
       "      <td>225</td>\n",
       "      <td>National Average</td>\n",
       "      <td>58</td>\n",
       "      <td>Wheat flour</td>\n",
       "      <td>36</td>\n",
       "      <td>AZN</td>\n",
       "      <td>15</td>\n",
       "      <td>Retail</td>\n",
       "      <td>5</td>\n",
       "      <td>KG</td>\n",
       "      <td>5</td>\n",
       "      <td>2007</td>\n",
       "      <td>0.33</td>\n",
       "      <td>The State Statistical Committee of the Republi...</td>\n",
       "    </tr>\n",
       "    <tr>\n",
       "      <th>...</th>\n",
       "      <td>...</td>\n",
       "      <td>...</td>\n",
       "      <td>...</td>\n",
       "      <td>...</td>\n",
       "      <td>...</td>\n",
       "      <td>...</td>\n",
       "      <td>...</td>\n",
       "      <td>...</td>\n",
       "      <td>...</td>\n",
       "      <td>...</td>\n",
       "      <td>...</td>\n",
       "      <td>...</td>\n",
       "      <td>...</td>\n",
       "      <td>...</td>\n",
       "      <td>...</td>\n",
       "      <td>...</td>\n",
       "      <td>...</td>\n",
       "      <td>...</td>\n",
       "    </tr>\n",
       "    <tr>\n",
       "      <th>698827</th>\n",
       "      <td>269</td>\n",
       "      <td>Yemen</td>\n",
       "      <td>144971</td>\n",
       "      <td>$Raymah</td>\n",
       "      <td>1947</td>\n",
       "      <td>Al Jabeen</td>\n",
       "      <td>424</td>\n",
       "      <td>Peas (yellow, split)</td>\n",
       "      <td>31</td>\n",
       "      <td>YER</td>\n",
       "      <td>15</td>\n",
       "      <td>Retail</td>\n",
       "      <td>5</td>\n",
       "      <td>KG</td>\n",
       "      <td>2</td>\n",
       "      <td>2017</td>\n",
       "      <td>350.00</td>\n",
       "      <td>WFP Monitoring</td>\n",
       "    </tr>\n",
       "    <tr>\n",
       "      <th>698828</th>\n",
       "      <td>269</td>\n",
       "      <td>Yemen</td>\n",
       "      <td>144971</td>\n",
       "      <td>$Raymah</td>\n",
       "      <td>1947</td>\n",
       "      <td>Al Jabeen</td>\n",
       "      <td>424</td>\n",
       "      <td>Peas (yellow, split)</td>\n",
       "      <td>31</td>\n",
       "      <td>YER</td>\n",
       "      <td>15</td>\n",
       "      <td>Retail</td>\n",
       "      <td>5</td>\n",
       "      <td>KG</td>\n",
       "      <td>3</td>\n",
       "      <td>2017</td>\n",
       "      <td>350.00</td>\n",
       "      <td>WFP Monitoring</td>\n",
       "    </tr>\n",
       "    <tr>\n",
       "      <th>698829</th>\n",
       "      <td>269</td>\n",
       "      <td>Yemen</td>\n",
       "      <td>144971</td>\n",
       "      <td>$Raymah</td>\n",
       "      <td>1947</td>\n",
       "      <td>Al Jabeen</td>\n",
       "      <td>424</td>\n",
       "      <td>Peas (yellow, split)</td>\n",
       "      <td>31</td>\n",
       "      <td>YER</td>\n",
       "      <td>15</td>\n",
       "      <td>Retail</td>\n",
       "      <td>5</td>\n",
       "      <td>KG</td>\n",
       "      <td>4</td>\n",
       "      <td>2017</td>\n",
       "      <td>300.00</td>\n",
       "      <td>WFP Monitoring</td>\n",
       "    </tr>\n",
       "    <tr>\n",
       "      <th>698830</th>\n",
       "      <td>269</td>\n",
       "      <td>Yemen</td>\n",
       "      <td>144971</td>\n",
       "      <td>$Raymah</td>\n",
       "      <td>1947</td>\n",
       "      <td>Al Jabeen</td>\n",
       "      <td>424</td>\n",
       "      <td>Peas (yellow, split)</td>\n",
       "      <td>31</td>\n",
       "      <td>YER</td>\n",
       "      <td>15</td>\n",
       "      <td>Retail</td>\n",
       "      <td>5</td>\n",
       "      <td>KG</td>\n",
       "      <td>5</td>\n",
       "      <td>2017</td>\n",
       "      <td>300.00</td>\n",
       "      <td>WFP Monitoring</td>\n",
       "    </tr>\n",
       "    <tr>\n",
       "      <th>698831</th>\n",
       "      <td>269</td>\n",
       "      <td>Yemen</td>\n",
       "      <td>144971</td>\n",
       "      <td>$Raymah</td>\n",
       "      <td>1947</td>\n",
       "      <td>Al Jabeen</td>\n",
       "      <td>424</td>\n",
       "      <td>Peas (yellow, split)</td>\n",
       "      <td>31</td>\n",
       "      <td>YER</td>\n",
       "      <td>15</td>\n",
       "      <td>Retail</td>\n",
       "      <td>5</td>\n",
       "      <td>KG</td>\n",
       "      <td>6</td>\n",
       "      <td>2017</td>\n",
       "      <td>300.00</td>\n",
       "      <td>WFP Monitoring</td>\n",
       "    </tr>\n",
       "  </tbody>\n",
       "</table>\n",
       "<p>50329 rows × 18 columns</p>\n",
       "</div>"
      ],
      "text/plain": [
       "        adm0_id   adm0_name  adm1_id adm1_name  mkt_id          mkt_name  \\\n",
       "12538        19  Azerbaijan        0       NaN     225  National Average   \n",
       "12539        19  Azerbaijan        0       NaN     225  National Average   \n",
       "12540        19  Azerbaijan        0       NaN     225  National Average   \n",
       "12541        19  Azerbaijan        0       NaN     225  National Average   \n",
       "12542        19  Azerbaijan        0       NaN     225  National Average   \n",
       "...         ...         ...      ...       ...     ...               ...   \n",
       "698827      269       Yemen   144971   $Raymah    1947         Al Jabeen   \n",
       "698828      269       Yemen   144971   $Raymah    1947         Al Jabeen   \n",
       "698829      269       Yemen   144971   $Raymah    1947         Al Jabeen   \n",
       "698830      269       Yemen   144971   $Raymah    1947         Al Jabeen   \n",
       "698831      269       Yemen   144971   $Raymah    1947         Al Jabeen   \n",
       "\n",
       "        cm_id               cm_name  cur_id cur_name  pt_id pt_name  um_id  \\\n",
       "12538      58           Wheat flour      36      AZN     15  Retail      5   \n",
       "12539      58           Wheat flour      36      AZN     15  Retail      5   \n",
       "12540      58           Wheat flour      36      AZN     15  Retail      5   \n",
       "12541      58           Wheat flour      36      AZN     15  Retail      5   \n",
       "12542      58           Wheat flour      36      AZN     15  Retail      5   \n",
       "...       ...                   ...     ...      ...    ...     ...    ...   \n",
       "698827    424  Peas (yellow, split)      31      YER     15  Retail      5   \n",
       "698828    424  Peas (yellow, split)      31      YER     15  Retail      5   \n",
       "698829    424  Peas (yellow, split)      31      YER     15  Retail      5   \n",
       "698830    424  Peas (yellow, split)      31      YER     15  Retail      5   \n",
       "698831    424  Peas (yellow, split)      31      YER     15  Retail      5   \n",
       "\n",
       "       um_name  mp_month  mp_year  mp_price  \\\n",
       "12538       KG         1     2007      0.29   \n",
       "12539       KG         2     2007      0.31   \n",
       "12540       KG         3     2007      0.32   \n",
       "12541       KG         4     2007      0.32   \n",
       "12542       KG         5     2007      0.33   \n",
       "...        ...       ...      ...       ...   \n",
       "698827      KG         2     2017    350.00   \n",
       "698828      KG         3     2017    350.00   \n",
       "698829      KG         4     2017    300.00   \n",
       "698830      KG         5     2017    300.00   \n",
       "698831      KG         6     2017    300.00   \n",
       "\n",
       "                                       mp_commoditysource  \n",
       "12538   The State Statistical Committee of the Republi...  \n",
       "12539   The State Statistical Committee of the Republi...  \n",
       "12540   The State Statistical Committee of the Republi...  \n",
       "12541   The State Statistical Committee of the Republi...  \n",
       "12542   The State Statistical Committee of the Republi...  \n",
       "...                                                   ...  \n",
       "698827                                     WFP Monitoring  \n",
       "698828                                     WFP Monitoring  \n",
       "698829                                     WFP Monitoring  \n",
       "698830                                     WFP Monitoring  \n",
       "698831                                     WFP Monitoring  \n",
       "\n",
       "[50329 rows x 18 columns]"
      ]
     },
     "execution_count": 7,
     "metadata": {},
     "output_type": "execute_result"
    }
   ],
   "source": [
    "filter_middleeast"
   ]
  },
  {
   "cell_type": "code",
   "execution_count": 8,
   "id": "e10e654e-276d-4bc6-9e20-6fb705ac0547",
   "metadata": {},
   "outputs": [
    {
     "data": {
      "text/html": [
       "<div>\n",
       "<style scoped>\n",
       "    .dataframe tbody tr th:only-of-type {\n",
       "        vertical-align: middle;\n",
       "    }\n",
       "\n",
       "    .dataframe tbody tr th {\n",
       "        vertical-align: top;\n",
       "    }\n",
       "\n",
       "    .dataframe thead th {\n",
       "        text-align: right;\n",
       "    }\n",
       "</style>\n",
       "<table border=\"1\" class=\"dataframe\">\n",
       "  <thead>\n",
       "    <tr style=\"text-align: right;\">\n",
       "      <th></th>\n",
       "      <th>adm0_id</th>\n",
       "      <th>adm0_name</th>\n",
       "      <th>adm1_id</th>\n",
       "      <th>adm1_name</th>\n",
       "      <th>mkt_id</th>\n",
       "      <th>mkt_name</th>\n",
       "      <th>cm_id</th>\n",
       "      <th>cm_name</th>\n",
       "      <th>cur_id</th>\n",
       "      <th>cur_name</th>\n",
       "      <th>pt_id</th>\n",
       "      <th>pt_name</th>\n",
       "      <th>um_id</th>\n",
       "      <th>um_name</th>\n",
       "      <th>mp_month</th>\n",
       "      <th>mp_year</th>\n",
       "      <th>mp_price</th>\n",
       "      <th>mp_commoditysource</th>\n",
       "    </tr>\n",
       "  </thead>\n",
       "  <tbody>\n",
       "  </tbody>\n",
       "</table>\n",
       "</div>"
      ],
      "text/plain": [
       "Empty DataFrame\n",
       "Columns: [adm0_id, adm0_name, adm1_id, adm1_name, mkt_id, mkt_name, cm_id, cm_name, cur_id, cur_name, pt_id, pt_name, um_id, um_name, mp_month, mp_year, mp_price, mp_commoditysource]\n",
       "Index: []"
      ]
     },
     "execution_count": 8,
     "metadata": {},
     "output_type": "execute_result"
    }
   ],
   "source": [
    "#no duplicate rows found, that's good\n",
    "duplicateRows = filter_middleeast[filter_middleeast.duplicated()]\n",
    "duplicateRows"
   ]
  },
  {
   "cell_type": "code",
   "execution_count": 9,
   "id": "58bab849-660d-42a5-a005-67884254ef53",
   "metadata": {},
   "outputs": [
    {
     "data": {
      "text/plain": [
       "array(['AZN', 'JOD', 'LBP', 'SYP', 'TRY', 'YER'], dtype=object)"
      ]
     },
     "execution_count": 9,
     "metadata": {},
     "output_type": "execute_result"
    }
   ],
   "source": [
    "filter_middleeast.cur_name.unique()"
   ]
  },
  {
   "cell_type": "code",
   "execution_count": 14,
   "id": "e914507d-bcd7-4dc3-abf4-a9115793b3b3",
   "metadata": {},
   "outputs": [],
   "source": [
    "c = CurrencyConverter()\n",
    "currencies = filter_middleeast.cur_name.unique().tolist()\n",
    "currencies = dict.fromkeys(currencies, pd.NA)\n",
    "for key in currencies:\n",
    "   try:\n",
    "      currencies[key] = c.convert(1, 'USD', key)\n",
    "   except:\n",
    "      pass"
   ]
  },
  {
   "cell_type": "code",
   "execution_count": 18,
   "id": "4aa0d9c9-351b-4065-953b-a7c07b6f3abf",
   "metadata": {},
   "outputs": [
    {
     "name": "stderr",
     "output_type": "stream",
     "text": [
      "C:\\Users\\toyha\\AppData\\Local\\Temp\\ipykernel_13616\\3935660488.py:1: SettingWithCopyWarning: \n",
      "A value is trying to be set on a copy of a slice from a DataFrame.\n",
      "Try using .loc[row_indexer,col_indexer] = value instead\n",
      "\n",
      "See the caveats in the documentation: https://pandas.pydata.org/pandas-docs/stable/user_guide/indexing.html#returning-a-view-versus-a-copy\n",
      "  filter_middleeast['amount_conv'] = filter_middleeast.apply(lambda x: x.mp_price / currencies[x.cur_name], axis=1 )\n"
     ]
    }
   ],
   "source": [
    "filter_middleeast['amount_conv'] = filter_middleeast.apply(lambda x: x.mp_price / currencies[x.cur_name], axis=1 )"
   ]
  },
  {
   "cell_type": "code",
   "execution_count": 19,
   "id": "e2db37aa-cf3a-4e5f-ad0b-fcd77e9ea491",
   "metadata": {},
   "outputs": [
    {
     "data": {
      "text/plain": [
       "array(['KG', 'L', '2 KG', '300 G', '160 G', '5 KG', '30 pcs', '5 L',\n",
       "       'Head', '200 G', 'Day', '1.5 KG', '650 G', '125 G', '185 G',\n",
       "       '10 KG', 'Unit', 'Packet', '12 KG', '18 KG'], dtype=object)"
      ]
     },
     "execution_count": 19,
     "metadata": {},
     "output_type": "execute_result"
    }
   ],
   "source": [
    "filter_middleeast.um_name.unique()"
   ]
  },
  {
   "cell_type": "code",
   "execution_count": 21,
   "id": "4612d4d5-8ef8-457e-99cc-00d65edad645",
   "metadata": {},
   "outputs": [
    {
     "data": {
      "text/plain": [
       "array(['Retail'], dtype=object)"
      ]
     },
     "execution_count": 21,
     "metadata": {},
     "output_type": "execute_result"
    }
   ],
   "source": [
    "#everything is in retail\n",
    "filter_middleeast.pt_name.unique()"
   ]
  },
  {
   "cell_type": "code",
   "execution_count": 22,
   "id": "8ab2df0a-d63c-4321-9338-b58ac6549fc1",
   "metadata": {},
   "outputs": [
    {
     "data": {
      "text/html": [
       "<div>\n",
       "<style scoped>\n",
       "    .dataframe tbody tr th:only-of-type {\n",
       "        vertical-align: middle;\n",
       "    }\n",
       "\n",
       "    .dataframe tbody tr th {\n",
       "        vertical-align: top;\n",
       "    }\n",
       "\n",
       "    .dataframe thead th {\n",
       "        text-align: right;\n",
       "    }\n",
       "</style>\n",
       "<table border=\"1\" class=\"dataframe\">\n",
       "  <thead>\n",
       "    <tr style=\"text-align: right;\">\n",
       "      <th></th>\n",
       "      <th>mp_month</th>\n",
       "      <th>mp_year</th>\n",
       "    </tr>\n",
       "  </thead>\n",
       "  <tbody>\n",
       "    <tr>\n",
       "      <th>12538</th>\n",
       "      <td>1</td>\n",
       "      <td>2007</td>\n",
       "    </tr>\n",
       "    <tr>\n",
       "      <th>12539</th>\n",
       "      <td>2</td>\n",
       "      <td>2007</td>\n",
       "    </tr>\n",
       "    <tr>\n",
       "      <th>12540</th>\n",
       "      <td>3</td>\n",
       "      <td>2007</td>\n",
       "    </tr>\n",
       "    <tr>\n",
       "      <th>12541</th>\n",
       "      <td>4</td>\n",
       "      <td>2007</td>\n",
       "    </tr>\n",
       "    <tr>\n",
       "      <th>12542</th>\n",
       "      <td>5</td>\n",
       "      <td>2007</td>\n",
       "    </tr>\n",
       "    <tr>\n",
       "      <th>...</th>\n",
       "      <td>...</td>\n",
       "      <td>...</td>\n",
       "    </tr>\n",
       "    <tr>\n",
       "      <th>698827</th>\n",
       "      <td>2</td>\n",
       "      <td>2017</td>\n",
       "    </tr>\n",
       "    <tr>\n",
       "      <th>698828</th>\n",
       "      <td>3</td>\n",
       "      <td>2017</td>\n",
       "    </tr>\n",
       "    <tr>\n",
       "      <th>698829</th>\n",
       "      <td>4</td>\n",
       "      <td>2017</td>\n",
       "    </tr>\n",
       "    <tr>\n",
       "      <th>698830</th>\n",
       "      <td>5</td>\n",
       "      <td>2017</td>\n",
       "    </tr>\n",
       "    <tr>\n",
       "      <th>698831</th>\n",
       "      <td>6</td>\n",
       "      <td>2017</td>\n",
       "    </tr>\n",
       "  </tbody>\n",
       "</table>\n",
       "<p>50329 rows × 2 columns</p>\n",
       "</div>"
      ],
      "text/plain": [
       "        mp_month  mp_year\n",
       "12538          1     2007\n",
       "12539          2     2007\n",
       "12540          3     2007\n",
       "12541          4     2007\n",
       "12542          5     2007\n",
       "...          ...      ...\n",
       "698827         2     2017\n",
       "698828         3     2017\n",
       "698829         4     2017\n",
       "698830         5     2017\n",
       "698831         6     2017\n",
       "\n",
       "[50329 rows x 2 columns]"
      ]
     },
     "execution_count": 22,
     "metadata": {},
     "output_type": "execute_result"
    }
   ],
   "source": [
    "filter_middleeast.loc[:, ['mp_month', 'mp_year']]"
   ]
  },
  {
   "cell_type": "code",
   "execution_count": 23,
   "id": "acfa2005-4184-47f8-bb7c-061beca62c40",
   "metadata": {},
   "outputs": [
    {
     "data": {
      "text/plain": [
       "array(['The State Statistical Committee of the Republic of Azerbaijan',\n",
       "       'MoIT', 'Ministry of Industry and Trade',\n",
       "       'Department of Statistics', 'WFP and Partner NGOs',\n",
       "       'WFP and NGO Partners', 'WFP and NGO Parnters', 'WFP and Partners',\n",
       "       'WFP', 'Primary Data WFP CO Food aid monitors', 'WFPCO',\n",
       "       'Sub Offices Field Monitors', 'Field monitors',\n",
       "       'Field Monitors/Sub Offices', 'Turkish Statistical Institute',\n",
       "       'WFP Sub-office', 'WFP Sub-Offices', 'WFP Monitoring'],\n",
       "      dtype=object)"
      ]
     },
     "execution_count": 23,
     "metadata": {},
     "output_type": "execute_result"
    }
   ],
   "source": [
    "filter_middleeast.mp_commoditysource.unique()"
   ]
  },
  {
   "cell_type": "code",
   "execution_count": 24,
   "id": "81c8cb36-5fa3-49fb-963d-872c9ebee2cf",
   "metadata": {},
   "outputs": [
    {
     "data": {
      "text/plain": [
       "array(['Wheat flour', 'Potatoes', 'Sugar', 'Milk (non-pasteurized)',\n",
       "       'Rice (imported)', 'Eggs', 'Meat (chicken)', 'Oil (vegetable)',\n",
       "       'Garlic', 'Lentils', 'Pasta', 'Tomatoes', 'Meat (chicken, whole)',\n",
       "       'Meat (beef)', 'Pulses', 'Onions', 'Apples (red)', 'Oil (olive)',\n",
       "       'Oranges (big size)', 'Chickpeas', 'Bananas', 'Bulgur',\n",
       "       'Cheese (picon)', 'Fish (tuna, canned)', 'Bread (pita)',\n",
       "       'Beans (fava, dry)', 'Meat (lamb)', 'Cheese (white, boiled)',\n",
       "       'Cucumbers', 'Spinach', 'Milk (pasteurized)', 'Beans (white)',\n",
       "       'Cabbage', 'Oil (sunflower)', 'Salt', 'Cucumbers (greenhouse)',\n",
       "       'Milk (powder)', 'Rice (imported, Egyptian)', 'Tomatoes (paste)',\n",
       "       'Lettuce', 'Meat (beef, canned)', 'Fish (sardine, canned)', 'Rice',\n",
       "       'Oil', 'Meat (beef, minced)', 'Wage (non-qualified labour)',\n",
       "       'Bread (bakery)', 'Bread (shop)', 'Tea', 'Fuel (diesel)', 'Dates',\n",
       "       'Salt (iodised)', 'Fuel (gas)',\n",
       "       'Livestock (sheep, two-year-old male)', 'Yogurt', 'Cheese',\n",
       "       'Parsley', 'Wheat flour (local)', 'Groundnuts (shelled)',\n",
       "       'Bread (common)', 'Coffee', 'Tea (green)', 'Meat (mutton)',\n",
       "       'Meat (chicken, frozen)', 'Coffee (instant)', 'Cauliflower',\n",
       "       'Fuel (petrol-gasoline)', 'Fish (fresh)', 'Meat (veal)',\n",
       "       'Eggplants', 'Milk (powder, infant formula)',\n",
       "       'Cocoa (powder, not sweetened)',\n",
       "       'Wage (non-qualified labour, non-agricultural)', 'Wheat',\n",
       "       'Beans (kidney red)', 'Wage (qualified labour)',\n",
       "       'Peas (yellow, split)'], dtype=object)"
      ]
     },
     "execution_count": 24,
     "metadata": {},
     "output_type": "execute_result"
    }
   ],
   "source": [
    "filter_middleeast.cm_name.unique()"
   ]
  },
  {
   "cell_type": "code",
   "execution_count": null,
   "id": "8d57a1d5-d15e-4a24-949e-cd6d4c23ff2b",
   "metadata": {},
   "outputs": [],
   "source": []
  }
 ],
 "metadata": {
  "kernelspec": {
   "display_name": "week1",
   "language": "python",
   "name": "week1"
  },
  "language_info": {
   "codemirror_mode": {
    "name": "ipython",
    "version": 3
   },
   "file_extension": ".py",
   "mimetype": "text/x-python",
   "name": "python",
   "nbconvert_exporter": "python",
   "pygments_lexer": "ipython3",
   "version": "3.11.9"
  }
 },
 "nbformat": 4,
 "nbformat_minor": 5
}
